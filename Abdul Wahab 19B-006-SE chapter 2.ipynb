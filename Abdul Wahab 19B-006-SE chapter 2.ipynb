{
 "cells": [
  {
   "cell_type": "code",
   "execution_count": 6,
   "metadata": {},
   "outputs": [
    {
     "name": "stdout",
     "output_type": "stream",
     "text": [
      "a) 15\n",
      "b) 24.333333333333332\n",
      "c) 5\n",
      "d) 38\n",
      "e) 1024\n",
      "f) 3\n",
      "g) 29.95\n"
     ]
    }
   ],
   "source": [
    "# 2.1\n",
    "print(\"a)\",1+2+3+4+5)\n",
    "print('b)',(23+19+31)/3)\n",
    "print('c)',403//73)\n",
    "print('d)',403%73)\n",
    "print('e)',2**10)\n",
    "print('f)',abs(54-57))\n",
    "print('g)',min(34.99,29.95,31.50))"
   ]
  },
  {
   "cell_type": "code",
   "execution_count": 10,
   "metadata": {},
   "outputs": [
    {
     "name": "stdout",
     "output_type": "stream",
     "text": [
      "a) False\n",
      "b) True\n",
      "c) True\n",
      "d) False\n",
      "e) True\n",
      "f) False\n",
      "g) True\n"
     ]
    }
   ],
   "source": [
    "#2.2\n",
    "print('a)',bool(2+2<4))\n",
    "print('b)',7//3==1+1)\n",
    "print('c)',3**2 + 4**2 == 25)\n",
    "print('d)',2+4+6>12)\n",
    "print('e)',1387%19==0)\n",
    "print('f)',31%2==0)\n",
    "print('g)',min(34.99,29.95,31.50)<30.00)"
   ]
  },
  {
   "cell_type": "code",
   "execution_count": 11,
   "metadata": {},
   "outputs": [
    {
     "name": "stdout",
     "output_type": "stream",
     "text": [
      "25\n"
     ]
    }
   ],
   "source": [
    "#2.3\n",
    "a = 3\n",
    "b = 4\n",
    "c = a*a + b*b\n",
    "print(c)"
   ]
  },
  {
   "cell_type": "code",
   "execution_count": 17,
   "metadata": {},
   "outputs": [
    {
     "name": "stdout",
     "output_type": "stream",
     "text": [
      "a) ant bat cod\n",
      "b) ant ant ant ant ant ant ant ant ant ant \n",
      "c) ant bat bat cod cod cod\n",
      "d) ant bat ant bat ant bat ant bat ant bat ant bat ant bat \n",
      "e) batbatcod batbatcod batbatcod \n"
     ]
    }
   ],
   "source": [
    "#2.4\n",
    "s1 = 'ant'\n",
    "s2 = 'bat'\n",
    "s3 = 'cod'\n",
    "print('a)',s1,s2,s3,sep=(' '))\n",
    "print('b)',10 * (s1 + ' '))\n",
    "print('c)',s1 + ' ' + 2 * (s2 + ' ') + 2 * (s3 + ' ') + s3)\n",
    "print('d)',7 * (s1 + ' '+ s2 + ' '))\n",
    "print('e)',3 * (2 * s2 + s3 + ' '))"
   ]
  },
  {
   "cell_type": "code",
   "execution_count": 18,
   "metadata": {},
   "outputs": [
    {
     "name": "stdout",
     "output_type": "stream",
     "text": [
      "a) 0\n",
      "b) 1\n",
      "c) 6\n",
      "d) 8\n",
      "e) 9\n"
     ]
    }
   ],
   "source": [
    "#2.5\n",
    "s = '0123456789' \n",
    "print('a)',s[0])\n",
    "print('b)',s[1])\n",
    "print('c)',s[6])\n",
    "print('d)',s[8])\n",
    "print('e)',s[9])"
   ]
  },
  {
   "cell_type": "code",
   "execution_count": 20,
   "metadata": {},
   "outputs": [
    {
     "name": "stdout",
     "output_type": "stream",
     "text": [
      "first word : bat\n",
      "last word : badminton\n"
     ]
    }
   ],
   "source": [
    "#2.6\n",
    "words = ['bat', 'ball', 'barn', 'basket', 'badminton'] \n",
    "print('first word :',words[0])\n",
    "print('last word :',words[-1])"
   ]
  },
  {
   "cell_type": "code",
   "execution_count": 29,
   "metadata": {},
   "outputs": [
    {
     "name": "stdout",
     "output_type": "stream",
     "text": [
      "a) 2\n",
      "b) 4\n",
      "c) 10\n",
      "d) [3, 4, 6, 6, 7, 7, 9, 9, 10]\n",
      "e) 6.777777777777778\n"
     ]
    }
   ],
   "source": [
    "#2.7\n",
    "grades = [9, 7, 7, 10, 3, 9, 6, 6, 2] \n",
    "print('a)',grades.count(7) )\n",
    "grades[-1]=4\n",
    "print('b)',grades[-1])\n",
    "print('c)', max(grades))\n",
    "grades.sort()\n",
    "print('d)',grades)\n",
    "print('e)',sum(grades) / len(grades))"
   ]
  },
  {
   "cell_type": "code",
   "execution_count": 31,
   "metadata": {},
   "outputs": [
    {
     "name": "stdout",
     "output_type": "stream",
     "text": [
      "a) ((2 + 3) == 4) or (a >= 5)\n",
      "b) (((lst[1]) * (-3)) < (-10)) == 0\n",
      "c) (((lst[1]) * (-3)) < (-10)) in [0, True]\n",
      "d) 2 * (3**2)\n",
      "e) (4 / 2) in [1, 2, 3]\n"
     ]
    }
   ],
   "source": [
    "#2.8\n",
    "print('a)','((2 + 3) == 4) or (a >= 5)')\n",
    "print('b)','(((lst[1]) * (-3)) < (-10)) == 0' )\n",
    "print('c)',\"(((lst[1]) * (-3)) < (-10)) in [0, True]\")\n",
    "print('d)','2 * (3**2)')\n",
    "print('e)','(4 / 2) in [1, 2, 3]')"
   ]
  },
  {
   "cell_type": "code",
   "execution_count": 34,
   "metadata": {},
   "outputs": [
    {
     "name": "stdout",
     "output_type": "stream",
     "text": [
      "a) 0 ,which is int value\n",
      "b) 18.0 ,which is float\n",
      "c) 2 ,which is integer\n",
      "d) True ,which is bool value\n"
     ]
    }
   ],
   "source": [
    "#2.9\n",
    "print('a)',False + False,\",which is int value\")\n",
    "print('b)',2 * 3**2.0 ,',which is float')\n",
    "print('c)', 4 // 2 + 4 % 2 ,',which is integer')\n",
    "print('d)',2 + 3 == 4 or 5 >= 5,',which is bool value')\n"
   ]
  },
  {
   "cell_type": "code",
   "execution_count": 35,
   "metadata": {},
   "outputs": [
    {
     "name": "stdout",
     "output_type": "stream",
     "text": [
      "a) sqrt(a**2 + b**2)\n",
      "b) sqrt(a**2 + b**2) == 5\n",
      "c) pi * a**2\n",
      "d) (x - a)**2 + (y - b)**2 < r**2\n"
     ]
    }
   ],
   "source": [
    "#2.10\n",
    "print('a)','sqrt(a**2 + b**2)')\n",
    "print('b)','sqrt(a**2 + b**2) == 5' )\n",
    "print('c)','pi * a**2')\n",
    "print('d)','(x - a)**2 + (y - b)**2 < r**2')\n"
   ]
  },
  {
   "cell_type": "code",
   "execution_count": 42,
   "metadata": {},
   "outputs": [
    {
     "name": "stdout",
     "output_type": "stream",
     "text": [
      "a) -28\n",
      "b) 10.651685393258427\n",
      "c) 9.5367431640625e-07\n",
      "d) 71\n",
      "e) 25\n"
     ]
    }
   ],
   "source": [
    "#2.11\n",
    "lst = [-1,-2,-3,-4,-5,-6,-7]\n",
    "print('a)',sum(lst))\n",
    "print('b)',((17*9)+(24*10)+(21*11)+(27*12))/(17+24+21+27))\n",
    "print('c)',2**(-20))\n",
    "print('d)',4356//61)\n",
    "print('e)',4356%61)"
   ]
  },
  {
   "cell_type": "code",
   "execution_count": 47,
   "metadata": {},
   "outputs": [
    {
     "name": "stdout",
     "output_type": "stream",
     "text": [
      "a) -+\n",
      "b) -+-\n",
      "c) +--\n",
      "d) +--+--\n",
      "e) +--+--+--+--+--+--+--+--+--+--+\n",
      "f) +-+++--+-+++--+-+++--+-+++--+-+++--\n"
     ]
    }
   ],
   "source": [
    "#2.12\n",
    "s1 = '+'\n",
    "s2 = '-'\n",
    "print('a)',s2+s1)\n",
    "print('b)',s2+s1+s2)\n",
    "print('c)',s1+s2+s2)\n",
    "print('d)',2*(s1+s2+s2))\n",
    "print('e)',10*(s1+s2+s2)+s1)\n",
    "print('f)',5*(s1+s2+3*s1+2*s2))"
   ]
  },
  {
   "cell_type": "code",
   "execution_count": 48,
   "metadata": {},
   "outputs": [
    {
     "name": "stdout",
     "output_type": "stream",
     "text": [
      "a\n",
      "c\n",
      "z\n",
      "y\n",
      "q\n"
     ]
    }
   ],
   "source": [
    "#2.13\n",
    "s = 'abcdefghijklmnopqrstuvwxyz'\n",
    "print(s[0])\n",
    "print(s[2])\n",
    "print(s[25])\n",
    "print(s[24])\n",
    "print(s[16])"
   ]
  },
  {
   "cell_type": "code",
   "execution_count": 54,
   "metadata": {},
   "outputs": [
    {
     "name": "stdout",
     "output_type": "stream",
     "text": [
      "a) True\n",
      "b) False\n",
      "c) False\n",
      "d) False\n",
      "e) True\n",
      "f) False\n",
      "g) False\n"
     ]
    }
   ],
   "source": [
    "#2.14\n",
    "s = 'goodbye'\n",
    "print('a)',s[0]=='g')\n",
    "print('b)',s[6]=='g')\n",
    "print('c)',s[0]=='g' and s[1]=='a')\n",
    "print('d)',s[-2]=='x')\n",
    "print('e)',s[3]=='d')\n",
    "print('f)',s[0]==s[-1])\n",
    "print('g)',s[1]+s[2]+s[3]+s[4]=='tion')"
   ]
  },
  {
   "cell_type": "code",
   "execution_count": 55,
   "metadata": {},
   "outputs": [
    {
     "name": "stdout",
     "output_type": "stream",
     "text": [
      "number of character in anachronistically is : 17\n",
      "number of character in counterintuitive is : 16\n",
      "The number of characters in the word anachronistically is 1 more than the number of characters in the word counterintuitive\n",
      "\n",
      "\n",
      "sorting of dictionary gives words in this order \n",
      "['misinterpretation', 'misrepresentation']\n",
      "\n",
      "\n",
      "number of time e appear in floccinaucinihilipilification is 0\n",
      "\n",
      "\n",
      "number of character in counterrevolution is :17\n",
      "sum of number of character in counter and resolution is :17\n"
     ]
    }
   ],
   "source": [
    "#2.15\n",
    "a = 'anachronistically'\n",
    "b = 'counterintuitive'\n",
    "print(\"number of character in anachronistically is : \" +str(len(a)))\n",
    "print(\"number of character in counterintuitive is : \" +str(len(b)))\n",
    "print(\"The number of characters in the word anachronistically is \" +str(len(a)-len(b))+ \" more than the number of characters in the word counterintuitive\" )\n",
    "\n",
    "dictionary = ['misrepresentation', 'misinterpretation' ] \n",
    "dictionary.sort()\n",
    "print(\"\\n\\nsorting of dictionary gives words in this order \") \n",
    "print(dictionary )\n",
    "\n",
    "word='floccinaucinihilipilification' \n",
    "print(\"\\n\\nnumber of time e appear in floccinaucinihilipilification is \" +str(word.count(\"e\")))\n",
    "\n",
    "word1='counterrevolution' \n",
    "word2='counter' \n",
    "word3='resolution'\n",
    "print(\"\\n\\nnumber of character in counterrevolution is :\" +str(len(word1)) ) \n",
    "print(\"sum of number of character in counter and resolution is :\" +str(len(word2)+(len( word3) )))"
   ]
  },
  {
   "cell_type": "code",
   "execution_count": 74,
   "metadata": {},
   "outputs": [
    {
     "name": "stdout",
     "output_type": "stream",
     "text": [
      "John Fitzgerald Kennedy\n",
      "a) True\n",
      "b) False\n",
      "c) True\n",
      "d) True\n",
      "e) False\n",
      "f) False\n"
     ]
    }
   ],
   "source": [
    "#2.16\n",
    "a = 6\n",
    "b = 7\n",
    "c = (a+b)/2\n",
    "\n",
    "inventory = ['paper','pencil','staples']\n",
    "\n",
    "first = 'John'\n",
    "middle = 'Fitzgerald'\n",
    "last = 'Kennedy'\n",
    "fullname = (first+\" \"+middle+\" \"+last)\n",
    "print(fullname)\n",
    "\n",
    "#2.17\n",
    "print('a)',((17-9)<10))\n",
    "print('b)',len(inventory)==5*len(fullname))\n",
    "print('c)',c <= 24)\n",
    "print('d)',6.75 > a and 6.75 < b)\n",
    "print('e)',len(middle)>len(first) and len(middle)<len(last))\n",
    "print('f)',len(inventory)==0 or len(inventory)>10)"
   ]
  },
  {
   "cell_type": "code",
   "execution_count": 84,
   "metadata": {},
   "outputs": [
    {
     "name": "stdout",
     "output_type": "stream",
     "text": [
      "a) ['rose', 'bougainvillea', 'yucca', 'marigold', 'daylilly', 'lilly of the valley']\n",
      "b) False\n",
      "c) ['rose', 'bougainvillea', 'yucca']\n",
      "d) lilly of the valley\n"
     ]
    }
   ],
   "source": [
    "#2.18\n",
    "flowers = ['rose', 'bougainvillea','yucca', 'marigold', 'daylilly','lilly of the valley']\n",
    "print('a)',flowers)\n",
    "print('b)','potato' in flowers)\n",
    "thorny=flowers[:3]\n",
    "print('c)',thorny)\n",
    "poisnous = flowers[-1]\n",
    "print('d)',poisnous)\n",
    "dangerous = thorny + poisnous"
   ]
  },
  {
   "cell_type": "code",
   "execution_count": 96,
   "metadata": {},
   "outputs": [
    {
     "name": "stdout",
     "output_type": "stream",
     "text": [
      "a) 5\n",
      "b) 6\n",
      "c) 45.45454545454545 %\n",
      "d) ['N', 'N', 'N', 'N', 'N', 'N', 'Y', 'Y', 'Y', 'Y', 'Y']\n",
      "e) at 6 Y will occur for the first time\n"
     ]
    }
   ],
   "source": [
    "#2.19\n",
    "answers = ['Y', 'N', 'N', 'Y', 'N', 'Y', 'Y', 'Y', 'N', 'N', 'N']\n",
    "numYes=answers.count('Y')\n",
    "print('a)',numYes)\n",
    "numNo=answers.count('N')\n",
    "print('b)',numNo)\n",
    "PercentYes=(numYes/len(answers))*100\n",
    "print('c)',PercentYes,'%')\n",
    "answers.sort()\n",
    "print('d)',answers)\n",
    "f = answers.count('N')\n",
    "print('e)',\"at\",f,answers[f],\"will occur for the first time\")"
   ]
  },
  {
   "cell_type": "code",
   "execution_count": 97,
   "metadata": {},
   "outputs": [
    {
     "name": "stdout",
     "output_type": "stream",
     "text": [
      "top\n"
     ]
    }
   ],
   "source": [
    "#2.20\n",
    "s = 'pot'\n",
    "print(s[::-1])"
   ]
  },
  {
   "cell_type": "code",
   "execution_count": 98,
   "metadata": {},
   "outputs": [
    {
     "name": "stdout",
     "output_type": "stream",
     "text": [
      "WA\n"
     ]
    }
   ],
   "source": [
    "#2.21\n",
    "s = 'Wahab'\n",
    "t = 'Abdul'\n",
    "print(s[0]+t[0])"
   ]
  },
  {
   "cell_type": "code",
   "execution_count": 99,
   "metadata": {},
   "outputs": [
    {
     "name": "stdout",
     "output_type": "stream",
     "text": [
      "14\n"
     ]
    }
   ],
   "source": [
    "#2.22\n",
    "lst = [3, 7, -2, 12]\n",
    "print(max(lst)-min(lst))"
   ]
  },
  {
   "cell_type": "code",
   "execution_count": 100,
   "metadata": {},
   "outputs": [
    {
     "name": "stdout",
     "output_type": "stream",
     "text": [
      "List monthsL : ['Jan', 'Feb', 'Mar', 'May']\n",
      "Tuple monthsT: ('Jan', 'Feb', 'Mar', 'May')\n",
      "\n",
      "\n",
      "After applying append on list monthsL: ['Jan', 'Feb', 'Mar', 'May', 'Jun']\n",
      "append gave error on tuple monthsT\n",
      "\n",
      "\n",
      "Inserting in list monthsL: ['Jan', 'Feb', 'Mar', 'Apr', 'May', 'Jun']\n",
      "insert gave error on tuple monthsT\n",
      "\n",
      "\n",
      "After applying pop on list monthsL : ['Jan', 'Feb', 'Mar', 'Apr', 'May']\n",
      "Insert gave error on tuple monthsT\n",
      "\n",
      "\n",
      "removing item on list monthsL['Jan', 'Mar', 'Apr', 'May']\n",
      "removing item gave error on tuple MonthsT\n",
      "\n",
      "\n",
      "reverse on list monthsL['May', 'Apr', 'Mar', 'Jan']\n",
      "reverse command gave error on tuple monthsT\n",
      "\n",
      "\n",
      "sorting on list monthsL['Apr', 'Jan', 'Mar', 'May']\n",
      "sorting gave error in tuple monthsT\n"
     ]
    }
   ],
   "source": [
    "#2.23\n",
    "#programming Question # 4\n",
    "\n",
    "monthsL=['Jan', 'Feb','Mar', 'May' ] \n",
    "monthsT=('Jan', 'Feb','Mar', 'May')\n",
    "print(\"List monthsL : \" +str(monthsL) ) \n",
    "print(\"Tuple monthsT: \" +str(monthsT) )\n",
    "\n",
    "monthsL.append(\"Jun\")\n",
    "#monthsT.append(\"jun\")\n",
    "print(\"\\n\\nAfter applying append on list monthsL: \" +str(monthsL) ) \n",
    "print(\"append gave error on tuple monthsT\")\n",
    "\n",
    "monthsL.insert(3, \"Apr\")\n",
    "#monthsT. insert (3, “Apr” )\n",
    "print(\"\\n\\nInserting in list monthsL: \" +str(monthsL) ) \n",
    "print(\"insert gave error on tuple monthsT\")\n",
    "\n",
    "\n",
    "monthsL.pop()\n",
    "#monthsT.pop() ;\n",
    "print(\"\\n\\nAfter applying pop on list monthsL : \" +str(monthsL) ) \n",
    "print(\"Insert gave error on tuple monthsT\")\n",
    "\n",
    "\n",
    "monthsL.remove(\"Feb\" )\n",
    "#monthsT.remove(\"Feb\")\n",
    "print(\"\\n\\nremoving item on list monthsL\" +str(monthsL) ) \n",
    "print(\"removing item gave error on tuple MonthsT\")\n",
    "\n",
    "\n",
    "monthsL.reverse() \n",
    "#monthsT.reverse() \n",
    "print(\"\\n\\nreverse on list monthsL\" +str(monthsL) ) \n",
    "print(\"reverse command gave error on tuple monthsT\")\n",
    "\n",
    "\n",
    "monthsL.sort()\n",
    "#monthsT.sort()\n",
    "print(\"\\n\\nsorting on list monthsL\" +str(monthsL) )\n",
    "print(\"sorting gave error in tuple monthsT\")\n"
   ]
  },
  {
   "cell_type": "code",
   "execution_count": 102,
   "metadata": {},
   "outputs": [
    {
     "name": "stdout",
     "output_type": "stream",
     "text": [
      "[4, 4, 2, 2, 1]\n"
     ]
    }
   ],
   "source": [
    "#2.24\n",
    "grades = ['B','B','F','C','B','A','A','D','C','D','A','A','B']\n",
    "count = [grades.count('A'),grades.count('B'),grades.count('C'),grades.count('D'),grades.count('F')]\n",
    "print(count)"
   ]
  },
  {
   "cell_type": "code",
   "execution_count": 104,
   "metadata": {},
   "outputs": [
    {
     "name": "stdout",
     "output_type": "stream",
     "text": [
      "[4, 4, 2, 2, 1]\n"
     ]
    }
   ],
   "source": [
    "#2.25\n",
    "grades = ('B','B','F','C','B','A','A','D','C','D','A','A','B')\n",
    "count = [grades.count('A'),grades.count('B'),grades.count('C'),grades.count('D'),grades.count('F')]\n",
    "print(count)"
   ]
  },
  {
   "cell_type": "code",
   "execution_count": 105,
   "metadata": {},
   "outputs": [
    {
     "name": "stdout",
     "output_type": "stream",
     "text": [
      "dart has x cordinate 0 and y cordinate 0\n",
      "Dart has hit within the dartboard\n",
      "\n",
      "dart has x cordinate 10 and y cordinate 10\n",
      "Dart has hit outside the dartboard\n",
      "\n",
      "dart has x cordinate 6 and y cordinate 6\n",
      "\\Dart has hit within the dartboard\n",
      "\n",
      "dart has x cordinate 7 and y cordinate 8\n",
      "Dart has hit outside the dartboard\n"
     ]
    }
   ],
   "source": [
    "#2.26\n",
    "from math import sqrt\n",
    "\n",
    "r = 10\n",
    "\n",
    "x=0\n",
    "y=0\n",
    "distance = sqrt(x**2+y**2)\n",
    "print(\"dart has x cordinate \" +str(x)+ \" and y cordinate \" +str(y))\n",
    "if distance < r :\n",
    "    print(\"Dart has hit within the dartboard\")\n",
    "    \n",
    "if distance > r :\n",
    "    print(\"Dart has hit outside the dartboard\")\n",
    "    \n",
    "x=10\n",
    "y=10\n",
    "distance = sqrt(x**2+y**2)\n",
    "print(\"\\ndart has x cordinate \" +str(x)+ \" and y cordinate \" +str(y))\n",
    "if distance < r :\n",
    "    print(\"\\Dart has hit within the dartboard\")\n",
    "    \n",
    "if distance > r :\n",
    "    print(\"Dart has hit outside the dartboard\") \n",
    "    \n",
    "x=6\n",
    "y=6\n",
    "distance = sqrt(x**2+y**2)\n",
    "print(\"\\ndart has x cordinate \" +str(x)+ \" and y cordinate \" +str(y))\n",
    "if distance < r :\n",
    "    print(\"\\Dart has hit within the dartboard\")\n",
    "    \n",
    "if distance > r :\n",
    "    print(\"Dart has hit outside the dartboard\") \n",
    "    \n",
    "x=7\n",
    "y=8\n",
    "distance = sqrt(x**2+y**2)\n",
    "print(\"\\ndart has x cordinate \" +str(x)+ \" and y cordinate \" +str(y))\n",
    "if distance < r :\n",
    "    print(\"\\Dart has hit within the dartboard\")\n",
    "    \n",
    "if distance > r :\n",
    "    print(\"Dart has hit outside the dartboard\") "
   ]
  },
  {
   "cell_type": "code",
   "execution_count": 106,
   "metadata": {},
   "outputs": [
    {
     "name": "stdout",
     "output_type": "stream",
     "text": [
      "For length 16 and angle 75 degree height is :15.454813220625093\n",
      "For length 20 and angle @ degree height is :0.0\n",
      "For length 24 and angle 45 degree height is :16.970562748477143\n",
      "For length 24 and angle 80 degree height is :23.63538607229299\n"
     ]
    }
   ],
   "source": [
    "#2.27\n",
    "#Programming Exercise Question 2\n",
    "from math import sin\n",
    "from math import pi\n",
    "l1=(16)\n",
    "l2=(20)\n",
    "l3=(24)\n",
    "l4=(24)\n",
    "a1=(75)\n",
    "a2=(0)\n",
    "a3=(45)\n",
    "a4=(80)\n",
    "#Height for 1st Ladder\n",
    "radians = pi * a1/180\n",
    "h1=l1*sin(radians)\n",
    "print(\"For length 16 and angle 75 degree height is :\" +str(h1)) \n",
    "#Height for 2nd Ladder\n",
    "radians = pi * a2/180\n",
    "h2=l2*sin(radians)\n",
    "print(\"For length 20 and angle @ degree height is :\" +str(h2))\n",
    "#Height for 3rd Ladder\n",
    "radians = pi * a3/180\n",
    "h3=l3*sin(radians )\n",
    "print(\"For length 24 and angle 45 degree height is :\" +str(h3)) \n",
    "#Height for 4th Ladder\n",
    "radians = pi * a4/180\n",
    "h4=l4*sin(radians)\n",
    "print(\"For length 24 and angle 80 degree height is :\" +str(h4))\n"
   ]
  },
  {
   "cell_type": "code",
   "execution_count": 107,
   "metadata": {},
   "outputs": [
    {
     "name": "stdout",
     "output_type": "stream",
     "text": [
      "Middle Index Value of list is :2.0\n",
      "Middle value of List is : 3\n",
      "Reverse sorted value of list : [5, 4, 3, 2, 1]\n",
      "Removing first element and putting it in the end :[2, 3, 4, 5, 1]\n"
     ]
    }
   ],
   "source": [
    "#2.28\n",
    "#programming Question # 3\n",
    "\n",
    "list = [1,2,3,4,5] \n",
    "middleindex = (len(list)-1)/2 \n",
    "print(\"Middle Index Value of list is :\" +str(middleindex) )\n",
    "\n",
    "midvalue = list[int(len(list)/2)]\n",
    "print(\"Middle value of List is : \"+str(midvalue) )\n",
    "\n",
    "sort = sorted(list,reverse=True)\n",
    "print(\"Reverse sorted value of list : \" +str(sort))\n",
    "\n",
    "b= list.pop(0) \n",
    "c=list.append(1) \n",
    "print(\"Removing first element and putting it in the end :\" +str(list))\n"
   ]
  },
  {
   "cell_type": "code",
   "execution_count": 112,
   "metadata": {},
   "outputs": [
    {
     "name": "stdout",
     "output_type": "stream",
     "text": [
      "a) True\n",
      "b) True\n",
      "c) True\n"
     ]
    }
   ],
   "source": [
    "#2.29\n",
    "print('a)',bool(0==(1==2))) # since 0 = false and 1==2 = false , so that is false = false that is true\n",
    "print('b)',bool(2+(3==4)+5)) \n",
    "print('c)',bool(1<-1)==(3>4))# since false==false , it is true"
   ]
  },
  {
   "cell_type": "code",
   "execution_count": 121,
   "metadata": {},
   "outputs": [],
   "source": [
    "#2.30\n",
    "x= 'Abdul Wahab'\n",
    "y = list(x)"
   ]
  },
  {
   "cell_type": "code",
   "execution_count": 114,
   "metadata": {},
   "outputs": [
    {
     "name": "stdout",
     "output_type": "stream",
     "text": [
      "Extend Command : [2, 3, 4, 5, 6]\n",
      "Entend Command Adds Number in the list\n",
      "copy command : [2, 3, 4, 5, 6]\n",
      "Copy Command Copy list to new list\n",
      "clear command :[]\n",
      "clear command clear the list\n"
     ]
    }
   ],
   "source": [
    "#2.31\n",
    "lst=[2,3,4]\n",
    "lst.extend([5,6])\n",
    "print(\"Extend Command : \" +str(lst))\n",
    "print (\"Entend Command Adds Number in the list\")\n",
    "\n",
    "lst2=lst.copy()\n",
    "print(\"copy command : \" +str(lst2))\n",
    "print(\"Copy Command Copy list to new list\")\n",
    "\n",
    "lst.clear()\n",
    "print(\"clear command :\" +str(lst))\n",
    "print(\"clear command clear the list\")\n"
   ]
  },
  {
   "cell_type": "code",
   "execution_count": null,
   "metadata": {},
   "outputs": [],
   "source": []
  }
 ],
 "metadata": {
  "kernelspec": {
   "display_name": "Python 3",
   "language": "python",
   "name": "python3"
  },
  "language_info": {
   "codemirror_mode": {
    "name": "ipython",
    "version": 3
   },
   "file_extension": ".py",
   "mimetype": "text/x-python",
   "name": "python",
   "nbconvert_exporter": "python",
   "pygments_lexer": "ipython3",
   "version": "3.7.3"
  }
 },
 "nbformat": 4,
 "nbformat_minor": 2
}
